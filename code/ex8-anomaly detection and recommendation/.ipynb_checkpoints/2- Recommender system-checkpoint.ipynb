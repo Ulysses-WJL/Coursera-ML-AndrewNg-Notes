{
 "cells": [
  {
   "cell_type": "markdown",
   "metadata": {},
   "source": [
    "# 2-推荐系统"
   ]
  },
  {
   "cell_type": "code",
   "execution_count": 1,
   "metadata": {},
   "outputs": [],
   "source": [
    "import matplotlib.pyplot as plt\n",
    "import seaborn as sns\n",
    "sns.set(context=\"notebook\", style=\"white\", palette=sns.color_palette(\"RdBu\"))\n",
    "import numpy as np\n",
    "import pandas as pd\n",
    "import scipy.io as sio"
   ]
  },
  {
   "cell_type": "markdown",
   "metadata": {},
   "source": [
    "# load data and setting up"
   ]
  },
  {
   "cell_type": "raw",
   "metadata": {},
   "source": [
    "% Notes: X - num_movies (1682)  x num_features (10) matrix of movie features  \n",
    "%        Theta - num_users (943)  x num_features (10) matrix of user features  \n",
    "%        Y - num_movies x num_users matrix of user ratings of movies  \n",
    "%        R - num_movies x num_users matrix, where R(i, j) = 1 if the  \n",
    "%            i-th movie was rated by the j-th user  "
   ]
  },
  {
   "cell_type": "code",
   "execution_count": 2,
   "metadata": {},
   "outputs": [
    {
     "data": {
      "text/plain": [
       "((1682, 943), (1682, 943))"
      ]
     },
     "execution_count": 2,
     "metadata": {},
     "output_type": "execute_result"
    }
   ],
   "source": [
    "movies_mat = sio.loadmat('./data/ex8_movies.mat')\n",
    "Y, R = movies_mat.get('Y'), movies_mat.get('R')\n",
    "\n",
    "Y.shape, R.shape   # (n_movies, n_users)"
   ]
  },
  {
   "cell_type": "code",
   "execution_count": 3,
   "metadata": {},
   "outputs": [],
   "source": [
    "m, u = Y.shape\n",
    "# m: how many movies\n",
    "# u: how many users\n",
    "\n",
    "n = 10  # how many features for a movie"
   ]
  },
  {
   "cell_type": "code",
   "execution_count": 4,
   "metadata": {},
   "outputs": [
    {
     "data": {
      "text/plain": [
       "((943, 10), (1682, 10))"
      ]
     },
     "execution_count": 4,
     "metadata": {},
     "output_type": "execute_result"
    }
   ],
   "source": [
    "# 参数获取  用户的喜好  电影的特征\n",
    "param_mat = sio.loadmat('./data/ex8_movieParams.mat')\n",
    "theta, X = param_mat.get('Theta'), param_mat.get('X')\n",
    "\n",
    "theta.shape, X.shape"
   ]
  },
  {
   "cell_type": "code",
   "execution_count": 14,
   "metadata": {},
   "outputs": [
    {
     "data": {
      "text/plain": [
       "array([[ 0.28544362, -1.68426509,  0.26293877, -0.28731731,  0.58572506,\n",
       "         0.98018795, -0.06337453,  0.76723235, -1.10460164, -0.25186708],\n",
       "       [ 0.50501321, -0.45464846,  0.31746244, -0.11508694,  0.56770367,\n",
       "         0.81890506,  0.46164876,  1.09306336, -1.20029436, -0.39161676]])"
      ]
     },
     "execution_count": 14,
     "metadata": {},
     "output_type": "execute_result"
    }
   ],
   "source": [
    "theta[:2]"
   ]
  },
  {
   "cell_type": "code",
   "execution_count": 20,
   "metadata": {},
   "outputs": [
    {
     "data": {
      "text/plain": [
       "array([[ 1.0486855 , -0.40023196,  1.19411945,  0.37112768,  0.40760718,\n",
       "         0.97440691, -0.05841025,  0.861721  , -0.69728994,  0.28874563],\n",
       "       [ 0.78085123, -0.38562591,  0.52119779,  0.22735522,  0.57010888,\n",
       "         0.64126447, -0.55000555,  0.70402073, -0.48583521, -0.56462407]])"
      ]
     },
     "execution_count": 20,
     "metadata": {},
     "output_type": "execute_result"
    }
   ],
   "source": [
    "X[:2]"
   ]
  },
  {
   "cell_type": "markdown",
   "metadata": {},
   "source": [
    "# cost\n",
    "<img style=\"float: left;\" src=\"../img/rcmd_cost.png\">"
   ]
  },
  {
   "cell_type": "code",
   "execution_count": 6,
   "metadata": {},
   "outputs": [],
   "source": [
    "def serialize(X, theta):\n",
    "    \"\"\"serialize 2 matrix\n",
    "    \"\"\"\n",
    "    # X (movie, feature), (1682, 10): movie features\n",
    "    # theta (user, feature), (943, 10): user preference\n",
    "    return np.concatenate((X.ravel(), theta.ravel()))\n",
    "\n",
    "\n",
    "def deserialize(param, n_movie, n_user, n_features):\n",
    "    \"\"\"into ndarray of X(1682, 10), theta(943, 10)\"\"\"\n",
    "    return param[:n_movie * n_features].reshape(n_movie, n_features), \\\n",
    "           param[n_movie * n_features:].reshape(n_user, n_features)\n",
    "\n",
    "\n",
    "# recommendation fn\n",
    "def cost(param, Y, R, n_features):\n",
    "    \"\"\"\n",
    "    计算最终的cost\n",
    "    compute cost for every r(i, j)=1\n",
    "    Args:\n",
    "        param: serialized X, theta\n",
    "        Y (movie, user), (1682, 943): (movie, user) rating\n",
    "        R (movie, user), (1682, 943): (movie, user) has rating\n",
    "    \"\"\"\n",
    "    # theta (user, feature), (943, 10): user preference\n",
    "    # X (movie, feature), (1682, 10): movie features\n",
    "    n_movie, n_user = Y.shape\n",
    "    X, theta = deserialize(param, n_movie, n_user, n_features)\n",
    "    \n",
    "    # 所有得到评分的电影的 预测评分-实际评分\n",
    "    inner = np.multiply(X @ theta.T - Y, R)\n",
    "\n",
    "    return np.power(inner, 2).sum() / 2\n",
    "\n",
    "\n",
    "def gradient(param, Y, R, n_features):\n",
    "    # cost函数的梯度\n",
    "    # theta (user, feature), (943, 10): user preference\n",
    "    # X (movie, feature), (1682, 10): movie features\n",
    "    n_movies, n_user = Y.shape\n",
    "    X, theta = deserialize(param, n_movies, n_user, n_features)\n",
    "\n",
    "    # 所有得到评分的电影的 预测评分-实际评分\n",
    "    inner = np.multiply(X @ theta.T - Y, R)  # (1682, 943)\n",
    "\n",
    "    # X_grad (1682, 10)\n",
    "    X_grad = inner @ theta\n",
    "\n",
    "    # theta_grad (943, 10)\n",
    "    theta_grad = inner.T @ X\n",
    "\n",
    "    # roll them together and return\n",
    "    return serialize(X_grad, theta_grad)\n",
    "\n",
    "\n",
    "def regularized_cost(param, Y, R, n_features, l=1):\n",
    "    # l: 正则化系数lambda\n",
    "    reg_term = np.power(param, 2).sum() * (l / 2)\n",
    "\n",
    "    return cost(param, Y, R, n_features) + reg_term\n",
    "\n",
    "\n",
    "def regularized_gradient(param, Y, R, n_features, l=1):\n",
    "    grad = gradient(param, Y, R, n_features)\n",
    "    reg_term = l * param\n",
    "\n",
    "    return grad + reg_term\n"
   ]
  },
  {
   "cell_type": "code",
   "execution_count": 7,
   "metadata": {},
   "outputs": [
    {
     "data": {
      "text/plain": [
       "22.224603725685675"
      ]
     },
     "execution_count": 7,
     "metadata": {},
     "output_type": "execute_result"
    }
   ],
   "source": [
    "# use subset of data to calculate the cost as in pdf...\n",
    "# 使用 较少的数据来进行计算\n",
    "users = 4\n",
    "movies = 5\n",
    "features = 3\n",
    "\n",
    "X_sub = X[:movies, :features]\n",
    "theta_sub = theta[:users, :features]\n",
    "Y_sub = Y[:movies, :users]\n",
    "R_sub = R[:movies, :users]\n",
    "\n",
    "param_sub = serialize(X_sub, theta_sub)\n",
    "cost(param_sub, Y_sub, R_sub, features)"
   ]
  },
  {
   "cell_type": "code",
   "execution_count": 8,
   "metadata": {},
   "outputs": [
    {
     "data": {
      "text/plain": [
       "27918.64012454421"
      ]
     },
     "execution_count": 8,
     "metadata": {},
     "output_type": "execute_result"
    }
   ],
   "source": [
    "param = serialize(X, theta)  # total real params\n",
    "\n",
    "cost(serialize(X, theta), Y, R, 10)  # this is real total cost"
   ]
  },
  {
   "cell_type": "markdown",
   "metadata": {
    "collapsed": true
   },
   "source": [
    "# gradient\n",
    "<img style=\"float: left;\" src=\"../img/rcmd_gradient.png\">"
   ]
  },
  {
   "cell_type": "code",
   "execution_count": 9,
   "metadata": {},
   "outputs": [],
   "source": [
    "n_movie, n_user = Y.shape\n",
    "\n",
    "X_grad, theta_grad = deserialize(gradient(param, Y, R, 10),\n",
    "                                      n_movie, n_user, 10)"
   ]
  },
  {
   "cell_type": "markdown",
   "metadata": {},
   "source": [
    "<img style=\"float: left;\" src=\"../img/rcmd_vectorized_grad.png\">"
   ]
  },
  {
   "cell_type": "code",
   "execution_count": 10,
   "metadata": {},
   "outputs": [],
   "source": [
    "assert X_grad.shape == X.shape\n",
    "assert theta_grad.shape == theta.shape"
   ]
  },
  {
   "cell_type": "markdown",
   "metadata": {},
   "source": [
    "# regularized cost"
   ]
  },
  {
   "cell_type": "code",
   "execution_count": 11,
   "metadata": {},
   "outputs": [
    {
     "data": {
      "text/plain": [
       "31.34405624427422"
      ]
     },
     "execution_count": 11,
     "metadata": {},
     "output_type": "execute_result"
    }
   ],
   "source": [
    "# in the ex8_confi.m, lambda = 1.5, and it's using sub data set\n",
    "regularized_cost(param_sub, Y_sub, R_sub, features, l=1.5)"
   ]
  },
  {
   "cell_type": "code",
   "execution_count": 12,
   "metadata": {},
   "outputs": [
    {
     "data": {
      "text/plain": [
       "32520.682450229557"
      ]
     },
     "execution_count": 12,
     "metadata": {},
     "output_type": "execute_result"
    }
   ],
   "source": [
    "regularized_cost(param, Y, R, 10, l=1)  # total regularized cost"
   ]
  },
  {
   "cell_type": "markdown",
   "metadata": {},
   "source": [
    "# regularized gradient"
   ]
  },
  {
   "cell_type": "markdown",
   "metadata": {},
   "source": [
    "<img style=\"float: left;\" src=\"../img/rcmd_reg_grad.png\">"
   ]
  },
  {
   "cell_type": "code",
   "execution_count": 13,
   "metadata": {},
   "outputs": [],
   "source": [
    "n_movie, n_user = Y.shape\n",
    "\n",
    "X_grad, theta_grad = deserialize(regularized_gradient(param, Y, R, 10),\n",
    "                                                                n_movie, n_user, 10)\n",
    "\n",
    "assert X_grad.shape == X.shape\n",
    "assert theta_grad.shape == theta.shape"
   ]
  },
  {
   "cell_type": "markdown",
   "metadata": {},
   "source": [
    "# parse `movie_id.txt`"
   ]
  },
  {
   "cell_type": "code",
   "execution_count": 22,
   "metadata": {},
   "outputs": [
    {
     "data": {
      "text/plain": [
       "array(['Toy Story (1995)', 'GoldenEye (1995)', 'Four Rooms (1995)', ...,\n",
       "       'Sliding Doors (1998)', 'You So Crazy (1994)',\n",
       "       'Scream of Stone (Schrei aus Stein) (1991)'], dtype='<U81')"
      ]
     },
     "execution_count": 22,
     "metadata": {},
     "output_type": "execute_result"
    }
   ],
   "source": [
    "movie_list = []\n",
    "\n",
    "with open('./data/movie_ids.txt', encoding='latin-1') as f:\n",
    "    for line in f:\n",
    "        tokens = line.strip().split(' ')\n",
    "        movie_list.append(' '.join(tokens[1:]))\n",
    "\n",
    "movie_list = np.array(movie_list)\n",
    "movie_list"
   ]
  },
  {
   "cell_type": "markdown",
   "metadata": {},
   "source": [
    "# reproduce my ratings\n",
    "\n",
    "生成个人评分"
   ]
  },
  {
   "cell_type": "code",
   "execution_count": 23,
   "metadata": {},
   "outputs": [],
   "source": [
    "ratings = np.zeros(1682)\n",
    "\n",
    "ratings[0] = 4\n",
    "ratings[6] = 3\n",
    "ratings[11] = 5\n",
    "ratings[53] = 4\n",
    "ratings[63] = 5\n",
    "ratings[65] = 3\n",
    "ratings[68] = 5\n",
    "ratings[97] = 2\n",
    "ratings[182] = 4\n",
    "ratings[225] = 5\n",
    "ratings[354] = 5"
   ]
  },
  {
   "cell_type": "markdown",
   "metadata": {},
   "source": [
    "# prepare data"
   ]
  },
  {
   "cell_type": "code",
   "execution_count": 24,
   "metadata": {},
   "outputs": [
    {
     "data": {
      "text/plain": [
       "(1682, 944)"
      ]
     },
     "execution_count": 24,
     "metadata": {},
     "output_type": "execute_result"
    }
   ],
   "source": [
    "Y, R = movies_mat.get('Y'), movies_mat.get('R')\n",
    "\n",
    "# 新的评分矩阵(n_movies, n_new_users)\n",
    "Y = np.insert(Y, 0, ratings, axis=1)  # now I become user 0\n",
    "Y.shape"
   ]
  },
  {
   "cell_type": "code",
   "execution_count": 31,
   "metadata": {},
   "outputs": [
    {
     "data": {
      "text/plain": [
       "(1682, 944)"
      ]
     },
     "execution_count": 31,
     "metadata": {},
     "output_type": "execute_result"
    }
   ],
   "source": [
    "# 更新R(i, j)\n",
    "R = np.insert(R, 0, ratings != 0, axis=1)\n",
    "R.shape"
   ]
  },
  {
   "cell_type": "code",
   "execution_count": 32,
   "metadata": {},
   "outputs": [],
   "source": [
    "# 假设电影特征50个 \n",
    "n_features = 50\n",
    "n_movie, n_user = Y.shape\n",
    "l = 10"
   ]
  },
  {
   "cell_type": "code",
   "execution_count": 33,
   "metadata": {},
   "outputs": [
    {
     "data": {
      "text/plain": [
       "((1682, 50), (944, 50))"
      ]
     },
     "execution_count": 33,
     "metadata": {},
     "output_type": "execute_result"
    }
   ],
   "source": [
    "X = np.random.standard_normal((n_movie, n_features))\n",
    "theta = np.random.standard_normal((n_user, n_features))\n",
    "\n",
    "X.shape, theta.shape"
   ]
  },
  {
   "cell_type": "code",
   "execution_count": 34,
   "metadata": {},
   "outputs": [],
   "source": [
    "param = serialize(X, theta)"
   ]
  },
  {
   "cell_type": "markdown",
   "metadata": {},
   "source": [
    "normalized ratings"
   ]
  },
  {
   "cell_type": "code",
   "execution_count": 82,
   "metadata": {},
   "outputs": [
    {
     "data": {
      "text/plain": [
       "array([ 2.00875098e-16,  1.37366578e-16, -1.55125442e-16, ...,\n",
       "       -4.08992299e-17, -3.02639417e-17, -3.36010792e-17])"
      ]
     },
     "execution_count": 82,
     "metadata": {},
     "output_type": "execute_result"
    }
   ],
   "source": [
    "# 均值归一化的 Y\n",
    "Y_norm = Y - Y.mean(axis=1)[:, np.newaxis]\n",
    "Y_norm.mean(axis=1)"
   ]
  },
  {
   "cell_type": "markdown",
   "metadata": {},
   "source": [
    "# training"
   ]
  },
  {
   "cell_type": "code",
   "execution_count": 79,
   "metadata": {},
   "outputs": [],
   "source": [
    "import scipy.optimize as opt"
   ]
  },
  {
   "cell_type": "code",
   "execution_count": 83,
   "metadata": {},
   "outputs": [],
   "source": [
    "res = opt.minimize(fun=regularized_cost,\n",
    "                   x0=param,\n",
    "                   args=(Y_norm, R, n_features, l),\n",
    "                   method='TNC',\n",
    "                   jac=regularized_gradient)\n",
    "#这里很慢"
   ]
  },
  {
   "cell_type": "code",
   "execution_count": 84,
   "metadata": {},
   "outputs": [
    {
     "data": {
      "text/plain": [
       "     fun: 63571.23700679088\n",
       "     jac: array([6.17977962e-06, 5.92303659e-06, 3.23239212e-06, ...,\n",
       "       4.27764606e-08, 1.62711187e-06, 1.23681476e-06])\n",
       " message: 'Converged (|f_n-f_(n-1)| ~= 0)'\n",
       "    nfev: 2515\n",
       "     nit: 83\n",
       "  status: 1\n",
       " success: True\n",
       "       x: array([ 0.16399667, -0.38208505,  0.04902922, ..., -0.45053505,\n",
       "        0.46402138,  0.46301432])"
      ]
     },
     "execution_count": 84,
     "metadata": {},
     "output_type": "execute_result"
    }
   ],
   "source": [
    "res"
   ]
  },
  {
   "cell_type": "code",
   "execution_count": 85,
   "metadata": {},
   "outputs": [
    {
     "data": {
      "text/plain": [
       "((1682, 50), (944, 50))"
      ]
     },
     "execution_count": 85,
     "metadata": {},
     "output_type": "execute_result"
    }
   ],
   "source": [
    "X_trained, theta_trained = deserialize(res.x, n_movie, n_user, n_features)\n",
    "X_trained.shape, theta_trained.shape"
   ]
  },
  {
   "cell_type": "code",
   "execution_count": 86,
   "metadata": {},
   "outputs": [],
   "source": [
    "prediction = X_trained @ theta_trained.T"
   ]
  },
  {
   "cell_type": "code",
   "execution_count": 89,
   "metadata": {},
   "outputs": [],
   "source": [
    "my_preds = prediction[:, 0] + Y.mean(axis=1)"
   ]
  },
  {
   "cell_type": "code",
   "execution_count": 90,
   "metadata": {},
   "outputs": [
    {
     "data": {
      "text/plain": [
       "(1682,)"
      ]
     },
     "execution_count": 90,
     "metadata": {},
     "output_type": "execute_result"
    }
   ],
   "source": [
    "idx = np.argsort(my_preds)[::-1]  # Descending order\n",
    "idx.shape"
   ]
  },
  {
   "cell_type": "code",
   "execution_count": 91,
   "metadata": {},
   "outputs": [
    {
     "data": {
      "text/plain": [
       "array([4.44234434, 4.17834012, 4.04470411, 4.04314502, 4.01796448,\n",
       "       4.00462143, 3.92903682, 3.89953287, 3.87701144, 3.8342994 ])"
      ]
     },
     "execution_count": 91,
     "metadata": {},
     "output_type": "execute_result"
    }
   ],
   "source": [
    "# top ten idx\n",
    "my_preds[idx][:10]"
   ]
  },
  {
   "cell_type": "code",
   "execution_count": 92,
   "metadata": {},
   "outputs": [
    {
     "name": "stdout",
     "output_type": "stream",
     "text": [
      "Star Wars (1977)\n",
      "Titanic (1997)\n",
      "Shawshank Redemption, The (1994)\n",
      "Raiders of the Lost Ark (1981)\n",
      "Return of the Jedi (1983)\n",
      "Forrest Gump (1994)\n",
      "Godfather, The (1972)\n",
      "Empire Strikes Back, The (1980)\n",
      "Braveheart (1995)\n",
      "Schindler's List (1993)\n"
     ]
    }
   ],
   "source": [
    "for m in movie_list[idx][:10]:\n",
    "    print(m)"
   ]
  }
 ],
 "metadata": {
  "anaconda-cloud": {},
  "kernelspec": {
   "display_name": "Python 3",
   "language": "python",
   "name": "python3"
  },
  "language_info": {
   "codemirror_mode": {
    "name": "ipython",
    "version": 3
   },
   "file_extension": ".py",
   "mimetype": "text/x-python",
   "name": "python",
   "nbconvert_exporter": "python",
   "pygments_lexer": "ipython3",
   "version": "3.7.6"
  }
 },
 "nbformat": 4,
 "nbformat_minor": 1
}
